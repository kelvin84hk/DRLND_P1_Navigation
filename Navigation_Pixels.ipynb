{
 "cells": [
  {
   "cell_type": "markdown",
   "metadata": {},
   "source": [
    "# Navigation\n",
    "\n",
    "---\n",
    "\n",
    "Congratulations for completing the first project of the [Deep Reinforcement Learning Nanodegree](https://www.udacity.com/course/deep-reinforcement-learning-nanodegree--nd893)!  In this notebook, you will learn how to control an agent in a more challenging environment, where it can learn directly from raw pixels!  **Note that this exercise is optional!**\n",
    "\n",
    "### 1. Start the Environment\n",
    "\n",
    "We begin by importing some necessary packages.  If the code cell below returns an error, please revisit the project instructions to double-check that you have installed [Unity ML-Agents](https://github.com/Unity-Technologies/ml-agents/blob/master/docs/Installation.md) and [NumPy](http://www.numpy.org/)."
   ]
  },
  {
   "cell_type": "code",
   "execution_count": 1,
   "metadata": {
    "collapsed": true
   },
   "outputs": [],
   "source": [
    "from unityagents import UnityEnvironment\n",
    "import numpy as np\n",
    "from collections import deque\n",
    "import torch\n",
    "import matplotlib.pyplot as plt\n",
    "%matplotlib inline\n",
    "from ddpg_agent_pixels import Agent\n",
    "from sklearn.manifold import TSNE"
   ]
  },
  {
   "cell_type": "markdown",
   "metadata": {},
   "source": [
    "Next, we will start the environment!  **_Before running the code cell below_**, change the `file_name` parameter to match the location of the Unity environment that you downloaded.\n",
    "\n",
    "- **Mac**: `\"path/to/VisualBanana.app\"`\n",
    "- **Windows** (x86): `\"path/to/VisualBanana_Windows_x86/Banana.exe\"`\n",
    "- **Windows** (x86_64): `\"path/to/VisualBanana_Windows_x86_64/Banana.exe\"`\n",
    "- **Linux** (x86): `\"path/to/VisualBanana_Linux/Banana.x86\"`\n",
    "- **Linux** (x86_64): `\"path/to/VisualBanana_Linux/Banana.x86_64\"`\n",
    "- **Linux** (x86, headless): `\"path/to/VisualBanana_Linux_NoVis/Banana.x86\"`\n",
    "- **Linux** (x86_64, headless): `\"path/to/VisualBanana_Linux_NoVis/Banana.x86_64\"`\n",
    "\n",
    "For instance, if you are using a Mac, then you downloaded `VisualBanana.app`.  If this file is in the same folder as the notebook, then the line below should appear as follows:\n",
    "```\n",
    "env = UnityEnvironment(file_name=\"VisualBanana.app\")\n",
    "```"
   ]
  },
  {
   "cell_type": "code",
   "execution_count": 2,
   "metadata": {},
   "outputs": [
    {
     "name": "stderr",
     "output_type": "stream",
     "text": [
      "INFO:unityagents:\n",
      "'Academy' started successfully!\n",
      "Unity Academy name: Academy\n",
      "        Number of Brains: 1\n",
      "        Number of External Brains : 1\n",
      "        Lesson number : 0\n",
      "        Reset Parameters :\n",
      "\t\t\n",
      "Unity brain name: BananaBrain\n",
      "        Number of Visual Observations (per agent): 1\n",
      "        Vector Observation space type: continuous\n",
      "        Vector Observation space size (per agent): 0\n",
      "        Number of stacked Vector Observation: 1\n",
      "        Vector Action space type: discrete\n",
      "        Vector Action space size (per agent): 4\n",
      "        Vector Action descriptions: , , , \n"
     ]
    }
   ],
   "source": [
    "env = UnityEnvironment(file_name=\"./VisualBanana_Windows_x86_64/Banana.exe\")"
   ]
  },
  {
   "cell_type": "markdown",
   "metadata": {},
   "source": [
    "Environments contain **_brains_** which are responsible for deciding the actions of their associated agents. Here we check for the first brain available, and set it as the default brain we will be controlling from Python."
   ]
  },
  {
   "cell_type": "code",
   "execution_count": 3,
   "metadata": {
    "collapsed": true
   },
   "outputs": [],
   "source": [
    "# get the default brain\n",
    "brain_name = env.brain_names[0]\n",
    "brain = env.brains[brain_name]"
   ]
  },
  {
   "cell_type": "markdown",
   "metadata": {},
   "source": [
    "### 2. Examine the State and Action Spaces\n",
    "\n",
    "The simulation contains a single agent that navigates a large environment.  At each time step, it has four actions at its disposal:\n",
    "- `0` - walk forward \n",
    "- `1` - walk backward\n",
    "- `2` - turn left\n",
    "- `3` - turn right\n",
    "\n",
    "The environment state is an array of raw pixels with shape `(1, 84, 84, 3)`.  *Note that this code differs from the notebook for the project, where we are grabbing **`visual_observations`** (the raw pixels) instead of **`vector_observations`**.* A reward of `+1` is provided for collecting a yellow banana, and a reward of `-1` is provided for collecting a blue banana. \n",
    "\n",
    "Run the code cell below to print some information about the environment."
   ]
  },
  {
   "cell_type": "code",
   "execution_count": 4,
   "metadata": {},
   "outputs": [
    {
     "name": "stdout",
     "output_type": "stream",
     "text": [
      "Number of agents: 1\n",
      "Number of actions: 4\n",
      "States look like:\n"
     ]
    },
    {
     "data": {
      "image/png": "[encoded data removed]",
      "text/plain": [
       "<matplotlib.figure.Figure at 0x1ea5b863748>"
      ]
     },
     "metadata": {},
     "output_type": "display_data"
    },
    {
     "name": "stdout",
     "output_type": "stream",
     "text": [
      "States have shape: (1, 84, 84, 3)\n"
     ]
    }
   ],
   "source": [
    "# reset the environment\n",
    "env_info = env.reset(train_mode=True)[brain_name]\n",
    "\n",
    "# number of agents in the environment\n",
    "print('Number of agents:', len(env_info.agents))\n",
    "\n",
    "# number of actions\n",
    "action_size = brain.vector_action_space_size\n",
    "print('Number of actions:', action_size)\n",
    "\n",
    "# examine the state space \n",
    "state = env_info.visual_observations[0]\n",
    "print('States look like:')\n",
    "plt.imshow(np.squeeze(state))\n",
    "plt.show()\n",
    "state_size = state.shape\n",
    "print('States have shape:', state.shape)"
   ]
  },
  {
   "cell_type": "markdown",
   "metadata": {},
   "source": [
    "### 3. Take Random Actions in the Environment\n",
    "\n",
    "In the next code cell, you will learn how to use the Python API to control the agent and receive feedback from the environment.\n",
    "\n",
    "Once this cell is executed, you will watch the agent's performance, if it selects an action (uniformly) at random with each time step.  A window should pop up that allows you to observe the agent, as it moves through the environment.  \n",
    "\n",
    "Of course, you'll have to change the code so that the agent is able to use its experience to gradually choose better actions when interacting with the environment!"
   ]
  },
  {
   "cell_type": "code",
   "execution_count": 5,
   "metadata": {},
   "outputs": [
    {
     "name": "stdout",
     "output_type": "stream",
     "text": [
      "Score: 2.0\n"
     ]
    }
   ],
   "source": [
    "env_info = env.reset(train_mode=False)[brain_name] # reset the environment\n",
    "state = env_info.visual_observations[0]            # get the current state\n",
    "states=[state]\n",
    "score = 0                                          # initialize the score\n",
    "while True:\n",
    "    action = np.random.randint(action_size)        # select an action\n",
    "    env_info = env.step(action)[brain_name]        # send the action to the environment\n",
    "    next_state = env_info.visual_observations[0]   # get the next state\n",
    "    reward = env_info.rewards[0]                   # get the reward\n",
    "    done = env_info.local_done[0]                  # see if episode has finished\n",
    "    score += reward                                # update the score\n",
    "    state = next_state                             # roll over the state to next time step\n",
    "    states.append(state)\n",
    "    if done:                                       # exit loop if episode finished\n",
    "        break\n",
    "    \n",
    "print(\"Score: {}\".format(score))\n",
    "states=np.vstack(states)"
   ]
  },
  {
   "cell_type": "markdown",
   "metadata": {},
   "source": [
    "When finished, you can close the environment."
   ]
  },
  {
   "cell_type": "code",
   "execution_count": 6,
   "metadata": {
    "collapsed": true
   },
   "outputs": [],
   "source": [
    "env.close()"
   ]
  },
  {
   "cell_type": "markdown",
   "metadata": {},
   "source": [
    "### 4. It's Your Turn!\n",
    "\n",
    "Now it's your turn to train your own agent to solve the environment!  When training the environment, set `train_mode=True`, so that the line for resetting the environment looks like the following:\n",
    "```python\n",
    "env_info = env.reset(train_mode=True)[brain_name]\n",
    "```"
   ]
  },
  {
   "cell_type": "code",
   "execution_count": 7,
   "metadata": {},
   "outputs": [
    {
     "data": {
      "image/png": "[encoded data removed]",
      "text/plain": [
       "<matplotlib.figure.Figure at 0x1ea5b84f7f0>"
      ]
     },
     "metadata": {},
     "output_type": "display_data"
    },
    {
     "data": {
      "image/png": "[encoded data removed]",
      "text/plain": [
       "<matplotlib.figure.Figure at 0x1ea61be0d30>"
      ]
     },
     "metadata": {},
     "output_type": "display_data"
    },
    {
     "data": {
      "image/png": "[encoded data removed]",
      "text/plain": [
       "<matplotlib.figure.Figure at 0x1ea61c89ef0>"
      ]
     },
     "metadata": {},
     "output_type": "display_data"
    }
   ],
   "source": [
    "plt.imshow(np.squeeze(states[100]))\n",
    "plt.show()\n",
    "plt.imshow(np.squeeze(states[101]))\n",
    "plt.show()\n",
    "plt.imshow(np.squeeze(states[101])-np.squeeze(states[100]))\n",
    "plt.show()"
   ]
  },
  {
   "cell_type": "code",
   "execution_count": 8,
   "metadata": {},
   "outputs": [
    {
     "name": "stdout",
     "output_type": "stream",
     "text": [
      "(301, 84, 84, 3)\n",
      "(301, 21168)\n",
      "(301, 3)\n",
      "[-72.32368469 -93.42835236  10.75784969]\n",
      "[ -27.70514488 -114.59693909   45.80617142]\n"
     ]
    }
   ],
   "source": [
    "states_new=states.reshape(states.shape[0],-1)\n",
    "print(states.shape)\n",
    "print(states_new.shape)\n",
    "state_embedded = TSNE(n_components=3).fit_transform(states_new)\n",
    "print(state_embedded.shape)\n",
    "print(state_embedded[55])\n",
    "print(state_embedded[56])"
   ]
  },
  {
   "cell_type": "code",
   "execution_count": 9,
   "metadata": {},
   "outputs": [
    {
     "name": "stdout",
     "output_type": "stream",
     "text": [
      "[[[[ 0.83921569  0.7254902   0.59215686]\n",
      "   [ 0.83921569  0.7254902   0.59215686]\n",
      "   [ 0.83921569  0.7254902   0.59215686]\n",
      "   ..., \n",
      "   [ 0.83921569  0.7254902   0.59215686]\n",
      "   [ 0.83921569  0.7254902   0.59215686]\n",
      "   [ 0.83921569  0.7254902   0.59215686]]\n",
      "\n",
      "  [[ 0.83921569  0.7254902   0.59215686]\n",
      "   [ 0.83921569  0.7254902   0.59215686]\n",
      "   [ 0.83921569  0.7254902   0.59215686]\n",
      "   ..., \n",
      "   [ 0.83921569  0.7254902   0.59215686]\n",
      "   [ 0.83921569  0.7254902   0.59215686]\n",
      "   [ 0.83921569  0.7254902   0.59215686]]\n",
      "\n",
      "  [[ 0.83921569  0.7254902   0.59215686]\n",
      "   [ 0.83921569  0.7254902   0.59215686]\n",
      "   [ 0.83921569  0.7254902   0.59215686]\n",
      "   ..., \n",
      "   [ 0.83921569  0.7254902   0.59215686]\n",
      "   [ 0.83921569  0.7254902   0.59215686]\n",
      "   [ 0.83921569  0.7254902   0.59215686]]\n",
      "\n",
      "  ..., \n",
      "  [[ 0.99215686  0.76862745  0.22352941]\n",
      "   [ 1.          0.78039216  0.21176471]\n",
      "   [ 1.          0.78823529  0.16470588]\n",
      "   ..., \n",
      "   [ 0.8         0.74901961  0.68627451]\n",
      "   [ 0.8         0.74901961  0.68627451]\n",
      "   [ 0.8         0.74901961  0.68627451]]\n",
      "\n",
      "  [[ 0.98039216  0.75686275  0.21176471]\n",
      "   [ 0.99215686  0.77254902  0.20392157]\n",
      "   [ 1.          0.78823529  0.16470588]\n",
      "   ..., \n",
      "   [ 0.8         0.74901961  0.68627451]\n",
      "   [ 0.8         0.74901961  0.68627451]\n",
      "   [ 0.8         0.74901961  0.68627451]]\n",
      "\n",
      "  [[ 0.96862745  0.74509804  0.2       ]\n",
      "   [ 0.97647059  0.75686275  0.18823529]\n",
      "   [ 1.          0.77647059  0.15294118]\n",
      "   ..., \n",
      "   [ 0.79607843  0.74509804  0.68235294]\n",
      "   [ 0.79607843  0.74509804  0.68235294]\n",
      "   [ 0.79607843  0.74509804  0.68235294]]]]\n"
     ]
    }
   ],
   "source": [
    "import torch\n",
    "from model_pixels import PolicyNet\n",
    "device = torch.device(\"cuda:0\" if torch.cuda.is_available() else \"cpu\")\n",
    "Pnet=PolicyNet(3, 4, 32).to(device)\n",
    "print(state)"
   ]
  },
  {
   "cell_type": "code",
   "execution_count": 10,
   "metadata": {},
   "outputs": [
    {
     "name": "stdout",
     "output_type": "stream",
     "text": [
      "(2, 84, 84, 3)\n"
     ]
    }
   ],
   "source": [
    "state=np.vstack([state,state])\n",
    "print(state.shape)"
   ]
  },
  {
   "cell_type": "code",
   "execution_count": 11,
   "metadata": {},
   "outputs": [
    {
     "name": "stdout",
     "output_type": "stream",
     "text": [
      "torch.Size([2, 4])\n"
     ]
    }
   ],
   "source": [
    "a=Pnet(torch.tensor(np.moveaxis(state,3,1)).float().to(device))\n",
    "print(a.size())"
   ]
  },
  {
   "cell_type": "code",
   "execution_count": 12,
   "metadata": {},
   "outputs": [
    {
     "name": "stdout",
     "output_type": "stream",
     "text": [
      "[[ 0.24440466  0.24812086  0.25657767  0.25089684]\n",
      " [ 0.24440466  0.24812086  0.25657767  0.25089684]]\n"
     ]
    }
   ],
   "source": [
    "print(a.cpu().data.numpy())"
   ]
  },
  {
   "cell_type": "code",
   "execution_count": 13,
   "metadata": {
    "collapsed": true
   },
   "outputs": [],
   "source": [
    "# collect trajectories \n",
    "def collect_trajectories(envs, policy, tmax=200):\n",
    "    \n",
    "    brain_name = env.brain_names[0]\n",
    "    brain = env.brains[brain_name]\n",
    "    \n",
    "    env_info = env.reset(train_mode=True)[brain_name]\n",
    "    state= env_info.visual_observations[0]\n",
    "    "
   ]
  },
  {
   "cell_type": "code",
   "execution_count": 2,
   "metadata": {
    "collapsed": true
   },
   "outputs": [],
   "source": [
    "action_size=4\n",
    "\n",
    "def train(check_pt_path,n_episodes=3000,isSolve=True,IsAvgScore=False):\n",
    "    \"\"\"Learning.\n",
    "    \n",
    "    Params\n",
    "    ======\n",
    "        n_episodes (int): maximum number of training episodes\n",
    "        max_t (int): maximum number of timesteps per episode\n",
    "        eps_start (float): starting value of epsilon, for epsilon-greedy action selection\n",
    "        eps_end (float): minimum value of epsilon\n",
    "        eps_decay (float): multiplicative factor (per episode) for decreasing epsilon\n",
    "    \"\"\"\n",
    "    env=None\n",
    "    env = UnityEnvironment(file_name=\"./VisualBanana_Windows_x86_64/Banana.exe\",no_graphics=False)\n",
    "    brain_name = env.brain_names[0]\n",
    "    brain = env.brains[brain_name]\n",
    "    \n",
    "    avgscores=[]\n",
    "    scores = []                        # list containing scores from each episode\n",
    "    scores_window = deque(maxlen=100)  # last 100 scores\n",
    "    for i_episode in range(1, n_episodes+1):\n",
    "        env_info = env.reset(train_mode=True)[brain_name]\n",
    "        state1= env_info.visual_observations[0]\n",
    "        state1=np.moveaxis(state1,3,1)\n",
    "        action = np.random.randint(action_size)\n",
    "        env_info=env.step(action)[brain_name]\n",
    "        state2= env_info.visual_observations[0]\n",
    "        state2=np.moveaxis(state2,3,1)\n",
    "        state=state2-state1\n",
    "        score = 0\n",
    "        while True:\n",
    "            \n",
    "            action_p=agent.act(state,add_noise=False)\n",
    "            action = int(np.argmax(action_p))\n",
    "            env_info=env.step(action)[brain_name]\n",
    "            temp_state = env_info.visual_observations[0]\n",
    "            temp_state=np.moveaxis(temp_state,3,1)\n",
    "            next_state =temp_state-state2\n",
    "            reward = env_info.rewards[0]                   # get the reward\n",
    "            done = env_info.local_done[0]  \n",
    "            agent.step(state, action_p, reward, next_state, done)\n",
    "            state = next_state\n",
    "            state1=state2\n",
    "            state2=temp_state\n",
    "            score += reward\n",
    "            if done:\n",
    "                break \n",
    "        scores_window.append(score)       # save most recent score\n",
    "        scores.append(score)              # save most recent score\n",
    "        \n",
    "        print('\\rEpisode {}\\tAverage Score: {:.2f}'.format(i_episode, np.mean(scores_window)), end=\"\")\n",
    "        if i_episode % 100 == 0:\n",
    "            print('\\rEpisode {}\\tAverage Score: {:.2f}'.format(i_episode, np.mean(scores_window)))\n",
    "            avgscores.append(np.mean(scores_window))\n",
    "        if np.mean(scores_window)>=13.0 and isSolve:\n",
    "            print('\\nEnvironment solved in {:d} episodes!\\tAverage Score: {:.2f}'.format(i_episode-100, np.mean(scores_window)))\n",
    "            torch.save(agent.qnetwork_local.state_dict(),check_pt_path)\n",
    "            break\n",
    "    env.close()\n",
    "    if IsAvgScore:\n",
    "        return avgscores\n",
    "    else:\n",
    "        return scores\n"
   ]
  },
  {
   "cell_type": "code",
   "execution_count": 5,
   "metadata": {},
   "outputs": [
    {
     "name": "stderr",
     "output_type": "stream",
     "text": [
      "INFO:unityagents:\n",
      "'Academy' started successfully!\n",
      "Unity Academy name: Academy\n",
      "        Number of Brains: 1\n",
      "        Number of External Brains : 1\n",
      "        Lesson number : 0\n",
      "        Reset Parameters :\n",
      "\t\t\n",
      "Unity brain name: BananaBrain\n",
      "        Number of Visual Observations (per agent): 1\n",
      "        Vector Observation space type: continuous\n",
      "        Vector Observation space size (per agent): 0\n",
      "        Number of stacked Vector Observation: 1\n",
      "        Vector Action space type: discrete\n",
      "        Vector Action space size (per agent): 4\n",
      "        Vector Action descriptions: , , , \n"
     ]
    },
    {
     "name": "stdout",
     "output_type": "stream",
     "text": [
      "Episode 100\tAverage Score: 0.04\n",
      "Episode 200\tAverage Score: -0.01\n",
      "Episode 300\tAverage Score: -0.05\n",
      "Episode 400\tAverage Score: 6.123\n",
      "Episode 500\tAverage Score: 9.17\n",
      "Episode 600\tAverage Score: 9.920\n",
      "Episode 700\tAverage Score: 10.57\n",
      "Episode 800\tAverage Score: 10.77\n",
      "Episode 900\tAverage Score: 10.28\n",
      "Episode 1000\tAverage Score: 10.45\n",
      "Episode 1100\tAverage Score: 10.99\n",
      "Episode 1200\tAverage Score: 11.15\n",
      "Episode 1300\tAverage Score: 10.90\n",
      "Episode 1400\tAverage Score: 10.57\n",
      "Episode 1500\tAverage Score: 10.03\n",
      "Episode 1600\tAverage Score: 9.845\n",
      "Episode 1700\tAverage Score: 10.57\n",
      "Episode 1800\tAverage Score: 9.593\n",
      "Episode 1900\tAverage Score: 10.05\n",
      "Episode 2000\tAverage Score: 11.06\n",
      "Episode 2100\tAverage Score: 11.40\n",
      "Episode 2200\tAverage Score: 11.03\n",
      "Episode 2300\tAverage Score: 11.18\n",
      "Episode 2400\tAverage Score: 7.850\n",
      "Episode 2500\tAverage Score: 7.76\n",
      "Episode 2600\tAverage Score: 5.09\n",
      "Episode 2700\tAverage Score: 6.02\n",
      "Episode 2800\tAverage Score: 6.18\n",
      "Episode 2900\tAverage Score: 8.71\n",
      "Episode 3000\tAverage Score: 9.16\n"
     ]
    },
    {
     "data": {
      "image/png": "[encoded data removed]",
      "text/plain": [
       "<matplotlib.figure.Figure at 0x2c4d4e3df60>"
      ]
     },
     "metadata": {},
     "output_type": "display_data"
    }
   ],
   "source": [
    "# train an agent with DDPG with PER\n",
    "agent = Agent(state_size=3, action_size=4, seed=32,BUFFER_SIZE = int(1e5),BATCH_SIZE = 64,GAMMA = 0.99,TAU = 1e-3,LR_ACTOR = 1e-4,LR_CRITIC = 3e-4,WEIGHT_DECAY = 0.0001,UPDATE_EVERY = 4,IsPR=True,N_step=6)\n",
    "\n",
    "scores = train(check_pt_path='ddpg_pixels.pth')\n",
    "\n",
    "# plot the scores\n",
    "fig = plt.figure()\n",
    "ax = fig.add_subplot(111)\n",
    "plt.plot(np.arange(len(scores)), scores)\n",
    "plt.ylabel('Score')\n",
    "plt.xlabel('Episode #')\n",
    "plt.show()\n",
    "\n"
   ]
  },
  {
   "cell_type": "code",
   "execution_count": 3,
   "metadata": {
    "scrolled": true
   },
   "outputs": [
    {
     "name": "stderr",
     "output_type": "stream",
     "text": [
      "INFO:unityagents:\n",
      "'Academy' started successfully!\n",
      "Unity Academy name: Academy\n",
      "        Number of Brains: 1\n",
      "        Number of External Brains : 1\n",
      "        Lesson number : 0\n",
      "        Reset Parameters :\n",
      "\t\t\n",
      "Unity brain name: BananaBrain\n",
      "        Number of Visual Observations (per agent): 1\n",
      "        Vector Observation space type: continuous\n",
      "        Vector Observation space size (per agent): 0\n",
      "        Number of stacked Vector Observation: 1\n",
      "        Vector Action space type: discrete\n",
      "        Vector Action space size (per agent): 4\n",
      "        Vector Action descriptions: , , , \n"
     ]
    },
    {
     "name": "stdout",
     "output_type": "stream",
     "text": [
      "Episode 100\tAverage Score: 0.03\n",
      "Episode 200\tAverage Score: 2.143\n",
      "Episode 300\tAverage Score: 4.94\n",
      "Episode 400\tAverage Score: 8.69\n",
      "Episode 500\tAverage Score: 9.361\n",
      "Episode 600\tAverage Score: 8.71\n",
      "Episode 700\tAverage Score: 10.71\n",
      "Episode 800\tAverage Score: 10.26\n",
      "Episode 900\tAverage Score: 9.892\n",
      "Episode 1000\tAverage Score: 10.90\n",
      "Episode 1100\tAverage Score: 10.17\n",
      "Episode 1200\tAverage Score: 9.844\n",
      "Episode 1300\tAverage Score: 10.99\n",
      "Episode 1400\tAverage Score: 10.09\n",
      "Episode 1500\tAverage Score: 11.65\n",
      "Episode 1600\tAverage Score: 11.60\n",
      "Episode 1700\tAverage Score: 10.36\n",
      "Episode 1800\tAverage Score: 10.38\n",
      "Episode 1900\tAverage Score: 10.73\n",
      "Episode 2000\tAverage Score: 10.98\n",
      "Episode 2100\tAverage Score: 11.16\n",
      "Episode 2200\tAverage Score: 10.67\n",
      "Episode 2300\tAverage Score: 11.04\n",
      "Episode 2400\tAverage Score: 9.721\n",
      "Episode 2500\tAverage Score: 12.10\n",
      "Episode 2600\tAverage Score: 10.78\n",
      "Episode 2700\tAverage Score: 11.16\n",
      "Episode 2800\tAverage Score: 10.83\n",
      "Episode 2900\tAverage Score: 9.965\n",
      "Episode 3000\tAverage Score: 10.56\n"
     ]
    },
    {
     "data": {
      "image/png": "[encoded data removed]",
      "text/plain": [
       "<matplotlib.figure.Figure at 0x25af7fb4048>"
      ]
     },
     "metadata": {},
     "output_type": "display_data"
    }
   ],
   "source": [
    "# train an agent with D4PG with PER, batch norm\n",
    "agent = Agent(state_size=3, action_size=4, seed=32,BUFFER_SIZE = int(1e5),BATCH_SIZE = 64,GAMMA = 0.99,TAU = 1e-3,LR_ACTOR = 1e-4,LR_CRITIC = 3e-4,WEIGHT_DECAY = 0.0001,UPDATE_EVERY = 5,IsPR=True,N_step=20,IsD4PG_Cat=True)\n",
    "\n",
    "scores = train(check_pt_path='d4pg_pixels.pth')\n",
    "\n",
    "# plot the scores\n",
    "fig = plt.figure()\n",
    "ax = fig.add_subplot(111)\n",
    "plt.plot(np.arange(len(scores)), scores)\n",
    "plt.ylabel('Score')\n",
    "plt.xlabel('Episode #')\n",
    "\n",
    "plt.show()\n",
    "\n"
   ]
  },
  {
   "cell_type": "code",
   "execution_count": 3,
   "metadata": {},
   "outputs": [
    {
     "name": "stderr",
     "output_type": "stream",
     "text": [
      "INFO:unityagents:\n",
      "'Academy' started successfully!\n",
      "Unity Academy name: Academy\n",
      "        Number of Brains: 1\n",
      "        Number of External Brains : 1\n",
      "        Lesson number : 0\n",
      "        Reset Parameters :\n",
      "\t\t\n",
      "Unity brain name: BananaBrain\n",
      "        Number of Visual Observations (per agent): 1\n",
      "        Vector Observation space type: continuous\n",
      "        Vector Observation space size (per agent): 0\n",
      "        Number of stacked Vector Observation: 1\n",
      "        Vector Action space type: discrete\n",
      "        Vector Action space size (per agent): 4\n",
      "        Vector Action descriptions: , , , \n"
     ]
    },
    {
     "name": "stdout",
     "output_type": "stream",
     "text": [
      "Episode 100\tAverage Score: 1.26\n",
      "Episode 200\tAverage Score: 5.16\n",
      "Episode 300\tAverage Score: 8.11\n",
      "Episode 400\tAverage Score: 8.28\n",
      "Episode 500\tAverage Score: 9.66\n",
      "Episode 600\tAverage Score: 11.21\n",
      "Episode 700\tAverage Score: 12.57\n",
      "Episode 800\tAverage Score: 10.48\n",
      "Episode 900\tAverage Score: 11.91\n",
      "Episode 1000\tAverage Score: 11.61\n",
      "Episode 1100\tAverage Score: 11.22\n",
      "Episode 1200\tAverage Score: 11.29\n",
      "Episode 1300\tAverage Score: 9.603\n",
      "Episode 1400\tAverage Score: 12.36\n",
      "Episode 1500\tAverage Score: 12.23\n",
      "Episode 1600\tAverage Score: 11.77\n",
      "Episode 1700\tAverage Score: 12.03\n",
      "Episode 1800\tAverage Score: 10.98\n",
      "Episode 1900\tAverage Score: 12.31\n",
      "Episode 2000\tAverage Score: 11.14\n",
      "Episode 2100\tAverage Score: 12.65\n",
      "Episode 2200\tAverage Score: 12.66\n",
      "Episode 2300\tAverage Score: 10.40\n",
      "Episode 2393\tAverage Score: 13.05\n",
      "Environment solved in 2293 episodes!\tAverage Score: 13.05\n"
     ]
    },
    {
     "ename": "AttributeError",
     "evalue": "'Agent' object has no attribute 'qnetwork_local'",
     "output_type": "error",
     "traceback": [
      "\u001b[1;31m---------------------------------------------------------------------------\u001b[0m",
      "\u001b[1;31mAttributeError\u001b[0m                            Traceback (most recent call last)",
      "\u001b[1;32m<ipython-input-3-5f03d85a6ec2>\u001b[0m in \u001b[0;36m<module>\u001b[1;34m\u001b[0m\n\u001b[0;32m      2\u001b[0m \u001b[0magent\u001b[0m \u001b[1;33m=\u001b[0m \u001b[0mAgent\u001b[0m\u001b[1;33m(\u001b[0m\u001b[0mstate_size\u001b[0m\u001b[1;33m=\u001b[0m\u001b[1;36m3\u001b[0m\u001b[1;33m,\u001b[0m \u001b[0maction_size\u001b[0m\u001b[1;33m=\u001b[0m\u001b[1;36m4\u001b[0m\u001b[1;33m,\u001b[0m \u001b[0mseed\u001b[0m\u001b[1;33m=\u001b[0m\u001b[1;36m32\u001b[0m\u001b[1;33m,\u001b[0m\u001b[0mBUFFER_SIZE\u001b[0m \u001b[1;33m=\u001b[0m \u001b[0mint\u001b[0m\u001b[1;33m(\u001b[0m\u001b[1;36m1e5\u001b[0m\u001b[1;33m)\u001b[0m\u001b[1;33m,\u001b[0m\u001b[0mBATCH_SIZE\u001b[0m \u001b[1;33m=\u001b[0m \u001b[1;36m64\u001b[0m\u001b[1;33m,\u001b[0m\u001b[0mGAMMA\u001b[0m \u001b[1;33m=\u001b[0m \u001b[1;36m0.99\u001b[0m\u001b[1;33m,\u001b[0m\u001b[0mTAU\u001b[0m \u001b[1;33m=\u001b[0m \u001b[1;36m1e-3\u001b[0m\u001b[1;33m,\u001b[0m\u001b[0mLR_ACTOR\u001b[0m \u001b[1;33m=\u001b[0m \u001b[1;36m1e-4\u001b[0m\u001b[1;33m,\u001b[0m\u001b[0mLR_CRITIC\u001b[0m \u001b[1;33m=\u001b[0m \u001b[1;36m3e-4\u001b[0m\u001b[1;33m,\u001b[0m\u001b[0mWEIGHT_DECAY\u001b[0m \u001b[1;33m=\u001b[0m \u001b[1;36m0.0001\u001b[0m\u001b[1;33m,\u001b[0m\u001b[0mUPDATE_EVERY\u001b[0m \u001b[1;33m=\u001b[0m \u001b[1;36m3\u001b[0m\u001b[1;33m,\u001b[0m\u001b[0mIsPR\u001b[0m\u001b[1;33m=\u001b[0m\u001b[1;32mTrue\u001b[0m\u001b[1;33m,\u001b[0m\u001b[0mN_step\u001b[0m\u001b[1;33m=\u001b[0m\u001b[1;36m5\u001b[0m\u001b[1;33m,\u001b[0m\u001b[0mIsD4PG_Cat\u001b[0m\u001b[1;33m=\u001b[0m\u001b[1;32mTrue\u001b[0m\u001b[1;33m)\u001b[0m\u001b[1;33m\u001b[0m\u001b[0m\n\u001b[0;32m      3\u001b[0m \u001b[1;33m\u001b[0m\u001b[0m\n\u001b[1;32m----> 4\u001b[1;33m \u001b[0mscores\u001b[0m \u001b[1;33m=\u001b[0m \u001b[0mtrain\u001b[0m\u001b[1;33m(\u001b[0m\u001b[0mcheck_pt_path\u001b[0m\u001b[1;33m=\u001b[0m\u001b[1;34m'd4pg_pixels.pth'\u001b[0m\u001b[1;33m)\u001b[0m\u001b[1;33m\u001b[0m\u001b[0m\n\u001b[0m\u001b[0;32m      5\u001b[0m \u001b[1;33m\u001b[0m\u001b[0m\n\u001b[0;32m      6\u001b[0m \u001b[1;31m# plot the scores\u001b[0m\u001b[1;33m\u001b[0m\u001b[1;33m\u001b[0m\u001b[0m\n",
      "\u001b[1;32m<ipython-input-2-dea1cd399aaf>\u001b[0m in \u001b[0;36mtrain\u001b[1;34m(check_pt_path, n_episodes, isSolve, IsAvgScore)\u001b[0m\n\u001b[0;32m     56\u001b[0m         \u001b[1;32mif\u001b[0m \u001b[0mnp\u001b[0m\u001b[1;33m.\u001b[0m\u001b[0mmean\u001b[0m\u001b[1;33m(\u001b[0m\u001b[0mscores_window\u001b[0m\u001b[1;33m)\u001b[0m\u001b[1;33m>=\u001b[0m\u001b[1;36m13.0\u001b[0m \u001b[1;32mand\u001b[0m \u001b[0misSolve\u001b[0m\u001b[1;33m:\u001b[0m\u001b[1;33m\u001b[0m\u001b[0m\n\u001b[0;32m     57\u001b[0m             \u001b[0mprint\u001b[0m\u001b[1;33m(\u001b[0m\u001b[1;34m'\\nEnvironment solved in {:d} episodes!\\tAverage Score: {:.2f}'\u001b[0m\u001b[1;33m.\u001b[0m\u001b[0mformat\u001b[0m\u001b[1;33m(\u001b[0m\u001b[0mi_episode\u001b[0m\u001b[1;33m-\u001b[0m\u001b[1;36m100\u001b[0m\u001b[1;33m,\u001b[0m \u001b[0mnp\u001b[0m\u001b[1;33m.\u001b[0m\u001b[0mmean\u001b[0m\u001b[1;33m(\u001b[0m\u001b[0mscores_window\u001b[0m\u001b[1;33m)\u001b[0m\u001b[1;33m)\u001b[0m\u001b[1;33m)\u001b[0m\u001b[1;33m\u001b[0m\u001b[0m\n\u001b[1;32m---> 58\u001b[1;33m             \u001b[0mtorch\u001b[0m\u001b[1;33m.\u001b[0m\u001b[0msave\u001b[0m\u001b[1;33m(\u001b[0m\u001b[0magent\u001b[0m\u001b[1;33m.\u001b[0m\u001b[0mqnetwork_local\u001b[0m\u001b[1;33m.\u001b[0m\u001b[0mstate_dict\u001b[0m\u001b[1;33m(\u001b[0m\u001b[1;33m)\u001b[0m\u001b[1;33m,\u001b[0m\u001b[0mcheck_pt_path\u001b[0m\u001b[1;33m)\u001b[0m\u001b[1;33m\u001b[0m\u001b[0m\n\u001b[0m\u001b[0;32m     59\u001b[0m             \u001b[1;32mbreak\u001b[0m\u001b[1;33m\u001b[0m\u001b[0m\n\u001b[0;32m     60\u001b[0m     \u001b[0menv\u001b[0m\u001b[1;33m.\u001b[0m\u001b[0mclose\u001b[0m\u001b[1;33m(\u001b[0m\u001b[1;33m)\u001b[0m\u001b[1;33m\u001b[0m\u001b[0m\n",
      "\u001b[1;31mAttributeError\u001b[0m: 'Agent' object has no attribute 'qnetwork_local'"
     ]
    }
   ],
   "source": [
    "# train an agent with D4PG with PER, batch norm\n",
    "agent = Agent(state_size=3, action_size=4, seed=32,BUFFER_SIZE = int(1e5),BATCH_SIZE = 64,GAMMA = 0.99,TAU = 1e-3,LR_ACTOR = 1e-4,LR_CRITIC = 3e-4,WEIGHT_DECAY = 0.0001,UPDATE_EVERY = 3,IsPR=True,N_step=5,IsD4PG_Cat=True)\n",
    "\n",
    "scores = train(check_pt_path='d4pg_pixels.pth')\n",
    "\n",
    "# plot the scores\n",
    "fig = plt.figure()\n",
    "ax = fig.add_subplot(1115)\n",
    "plt.plot(np.arange(len(scores)), scores)\n",
    "plt.ylabel('Score')\n",
    "plt.xlabel('Episode #')\n",
    "\n",
    "plt.show()\n"
   ]
  },
  {
   "cell_type": "code",
   "execution_count": null,
   "metadata": {
    "collapsed": true
   },
   "outputs": [],
   "source": []
  }
 ],
 "metadata": {
  "kernelspec": {
   "display_name": "Python 3",
   "language": "python",
   "name": "python3"
  },
  "language_info": {
   "codemirror_mode": {
    "name": "ipython",
    "version": 3
   },
   "file_extension": ".py",
   "mimetype": "text/x-python",
   "name": "python",
   "nbconvert_exporter": "python",
   "pygments_lexer": "ipython3",
   "version": "3.6.2"
  }
 },
 "nbformat": 4,
 "nbformat_minor": 2
}
